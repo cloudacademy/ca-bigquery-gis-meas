{
 "cells": [
  {
   "cell_type": "markdown",
   "metadata": {},
   "source": [
    "# Lab: Spatial Measurements and Spatial Transformations with BigQuery GIS and Python\n",
    "This lab will teach you how to perform spatial measurements and spatial transformations in BigQuery GIS using Python and Jupyter notebooks.\n",
    "\n",
    "BigQuery is a serverless data warehouse solution on Google Cloud Platform (GCP) that allows users to interact with their data using standard ANSI SQL.\n",
    "\n",
    "Using the BigQuery Python API, BigQuery databases can be directly accessed via Python and/or Jupyter notebooks.\n",
    "\n",
    "BigQuery GIS allows point, line or polygon geospatial data to be stored as a special `GEOGRAPHY` data type within a BigQuery table.  This `GEOGRAPHY` datatype is stored as a [well-known text](https://en.wikipedia.org/wiki/Well-known_text_representation_of_geometry) object. "
   ]
  },
  {
   "cell_type": "markdown",
   "metadata": {},
   "source": [
    "## Getting Started\n",
    "In order to connect to BigQuery in Python, you need to install the BigQuery Python client library and the BigQuery Storage API.  You will also need to set up the notebook to use the \"magic\" command, which we will be using to access BigQuery throughout this lab.  \n",
    "\n",
    "In addition, you will need to install the `pandas` package if you don't have it already installed.\n",
    "\n",
    "Note: If you are running this notebook in a GCP environment, these packages should be pre-installed."
   ]
  },
  {
   "cell_type": "code",
   "execution_count": null,
   "metadata": {},
   "outputs": [],
   "source": [
    "%pip install 'google-cloud-bigquery'\n",
    "%pip install 'google-cloud-bigquery-storage'\n",
    "%pip install 'pyarrow'\n",
    "%pip install 'pandas'\n",
    "\n",
    "%load_ext google.cloud.bigquery"
   ]
  },
  {
   "cell_type": "markdown",
   "metadata": {},
   "source": [
    "## Calculating Distance Between Two Geospatial Points\n",
    "Spatial measurement functions allow you to compute things such as distance and area using BigQuery's special `GEOGRAPHY` data type as input.\n",
    "\n",
    "One of the functions in this type is [ST_DISTANCE](https://cloud.google.com/bigquery/docs/reference/standard-sql/geography_functions#st_distance), which allows you to calculate the distance between two geospatial points.\n",
    "\n",
    "For this example, we will calculate the distance between two New York City landmarks: The Empire State Building and the Statue of Liberty.\n",
    "\n",
    "First, let's use the [ST_GEOGPOINT](https://cloud.google.com/bigquery/docs/reference/standard-sql/geography_functions#st_geogpoint) spatial constructor function to create `GEOGRAPHY` data types for each location from their latitude/longitude coordinates.\n",
    "\n",
    "We can directly write ANSI SQL to query BigQuery tables by using the `%%bigquery` [magic command](https://googleapis.dev/python/bigquery/latest/magics.html)."
   ]
  },
  {
   "cell_type": "code",
   "execution_count": 1,
   "metadata": {},
   "outputs": [
    {
     "data": {
      "text/html": [
       "<div>\n",
       "<style scoped>\n",
       "    .dataframe tbody tr th:only-of-type {\n",
       "        vertical-align: middle;\n",
       "    }\n",
       "\n",
       "    .dataframe tbody tr th {\n",
       "        vertical-align: top;\n",
       "    }\n",
       "\n",
       "    .dataframe thead th {\n",
       "        text-align: right;\n",
       "    }\n",
       "</style>\n",
       "<table border=\"1\" class=\"dataframe\">\n",
       "  <thead>\n",
       "    <tr style=\"text-align: right;\">\n",
       "      <th></th>\n",
       "      <th>name</th>\n",
       "      <th>location_geom</th>\n",
       "    </tr>\n",
       "  </thead>\n",
       "  <tbody>\n",
       "    <tr>\n",
       "      <th>0</th>\n",
       "      <td>Empire State Building</td>\n",
       "      <td>POINT(-73.9857 40.7484)</td>\n",
       "    </tr>\n",
       "  </tbody>\n",
       "</table>\n",
       "</div>"
      ],
      "text/plain": [
       "                    name            location_geom\n",
       "0  Empire State Building  POINT(-73.9857 40.7484)"
      ]
     },
     "execution_count": 1,
     "metadata": {},
     "output_type": "execute_result"
    }
   ],
   "source": [
    "%%bigquery\n",
    "SELECT 'Empire State Building' name,ST_GEOGPOINT(-73.9857,40.7484) location_geom;"
   ]
  },
  {
   "cell_type": "code",
   "execution_count": 2,
   "metadata": {},
   "outputs": [
    {
     "data": {
      "text/html": [
       "<div>\n",
       "<style scoped>\n",
       "    .dataframe tbody tr th:only-of-type {\n",
       "        vertical-align: middle;\n",
       "    }\n",
       "\n",
       "    .dataframe tbody tr th {\n",
       "        vertical-align: top;\n",
       "    }\n",
       "\n",
       "    .dataframe thead th {\n",
       "        text-align: right;\n",
       "    }\n",
       "</style>\n",
       "<table border=\"1\" class=\"dataframe\">\n",
       "  <thead>\n",
       "    <tr style=\"text-align: right;\">\n",
       "      <th></th>\n",
       "      <th>name</th>\n",
       "      <th>location_geom</th>\n",
       "    </tr>\n",
       "  </thead>\n",
       "  <tbody>\n",
       "    <tr>\n",
       "      <th>0</th>\n",
       "      <td>Statue of Liberty</td>\n",
       "      <td>POINT(-74.0445 40.6892)</td>\n",
       "    </tr>\n",
       "  </tbody>\n",
       "</table>\n",
       "</div>"
      ],
      "text/plain": [
       "                name            location_geom\n",
       "0  Statue of Liberty  POINT(-74.0445 40.6892)"
      ]
     },
     "execution_count": 2,
     "metadata": {},
     "output_type": "execute_result"
    }
   ],
   "source": [
    "%%bigquery\n",
    "SELECT 'Statue of Liberty' name,ST_GEOGPOINT(-74.0445,40.6892) location_geom;"
   ]
  },
  {
   "cell_type": "markdown",
   "metadata": {},
   "source": [
    "Next, we can calculating the distance using the `ST_DISTANCE` distance function.\n",
    "\n",
    "The values of all distance functions are returned in meters (or square meters for the area function)."
   ]
  },
  {
   "cell_type": "code",
   "execution_count": 3,
   "metadata": {},
   "outputs": [
    {
     "data": {
      "text/html": [
       "<div>\n",
       "<style scoped>\n",
       "    .dataframe tbody tr th:only-of-type {\n",
       "        vertical-align: middle;\n",
       "    }\n",
       "\n",
       "    .dataframe tbody tr th {\n",
       "        vertical-align: top;\n",
       "    }\n",
       "\n",
       "    .dataframe thead th {\n",
       "        text-align: right;\n",
       "    }\n",
       "</style>\n",
       "<table border=\"1\" class=\"dataframe\">\n",
       "  <thead>\n",
       "    <tr style=\"text-align: right;\">\n",
       "      <th></th>\n",
       "      <th>distance_value</th>\n",
       "    </tr>\n",
       "  </thead>\n",
       "  <tbody>\n",
       "    <tr>\n",
       "      <th>0</th>\n",
       "      <td>8239.506227</td>\n",
       "    </tr>\n",
       "  </tbody>\n",
       "</table>\n",
       "</div>"
      ],
      "text/plain": [
       "   distance_value\n",
       "0     8239.506227"
      ]
     },
     "execution_count": 3,
     "metadata": {},
     "output_type": "execute_result"
    }
   ],
   "source": [
    "%%bigquery\n",
    "SELECT ST_DISTANCE(\n",
    "  ST_GEOGPOINT(-73.9857,40.7484), #Empire State Building GEOGRAPHY\n",
    "  ST_GEOGPOINT(-74.0445,40.6892) #Statue of Liberty GEOGRAPHY\n",
    ") distance_value;"
   ]
  },
  {
   "cell_type": "markdown",
   "metadata": {},
   "source": [
    "The distance between these two landmarks is 8,240 meters or 8.24 kilometers."
   ]
  },
  {
   "cell_type": "markdown",
   "metadata": {},
   "source": [
    "**Try It:**  \n",
    "Can you calculate the distance between the Empire State Building and Rockefeller Center?  \n",
    "*Hint:* The coordinates for Rockefeller Center are: latitude = 40.7587, longitude = -73.9787."
   ]
  },
  {
   "cell_type": "code",
   "execution_count": null,
   "metadata": {},
   "outputs": [],
   "source": [
    "%%bigquery\n",
    "#Calculate the distance between the Empire State Building and Rockefeller Center\n",
    "SELECT ST_DISTANCE(\n",
    "  ??, #Empire State Building GEOGRAPHY\n",
    "  ?? #Rockefeller Center GEOGRAPHY\n",
    ") distance_value;"
   ]
  },
  {
   "cell_type": "markdown",
   "metadata": {},
   "source": [
    "## Calculating Area of a Geospatial Polygon\n",
    "For this next example, we will leverage the [public datasets](https://cloud.google.com/public-datasets) available from Google within BigQuery.\n",
    "\n",
    "We can use the \"places_georgia\" table from the \"geo_us_census_places\" dataset to calculate the area of Atlanta, Georgia using the [ST_AREA](https://cloud.google.com/bigquery/docs/reference/standard-sql/geography_functions#st_area) spatial measurement function."
   ]
  },
  {
   "cell_type": "code",
   "execution_count": 4,
   "metadata": {},
   "outputs": [
    {
     "data": {
      "text/html": [
       "<div>\n",
       "<style scoped>\n",
       "    .dataframe tbody tr th:only-of-type {\n",
       "        vertical-align: middle;\n",
       "    }\n",
       "\n",
       "    .dataframe tbody tr th {\n",
       "        vertical-align: top;\n",
       "    }\n",
       "\n",
       "    .dataframe thead th {\n",
       "        text-align: right;\n",
       "    }\n",
       "</style>\n",
       "<table border=\"1\" class=\"dataframe\">\n",
       "  <thead>\n",
       "    <tr style=\"text-align: right;\">\n",
       "      <th></th>\n",
       "      <th>place_id</th>\n",
       "      <th>place_name</th>\n",
       "      <th>place_geom</th>\n",
       "      <th>area_value</th>\n",
       "    </tr>\n",
       "  </thead>\n",
       "  <tbody>\n",
       "    <tr>\n",
       "      <th>0</th>\n",
       "      <td>1304000</td>\n",
       "      <td>Atlanta</td>\n",
       "      <td>MULTIPOLYGON(((-84.428549 33.657486, -84.42854...</td>\n",
       "      <td>353968.153318</td>\n",
       "    </tr>\n",
       "  </tbody>\n",
       "</table>\n",
       "</div>"
      ],
      "text/plain": [
       "  place_id place_name                                         place_geom  \\\n",
       "0  1304000    Atlanta  MULTIPOLYGON(((-84.428549 33.657486, -84.42854...   \n",
       "\n",
       "      area_value  \n",
       "0  353968.153318  "
      ]
     },
     "execution_count": 4,
     "metadata": {},
     "output_type": "execute_result"
    }
   ],
   "source": [
    "%%bigquery\n",
    "SELECT place_id, place_name, place_geom, ST_AREA(place_geom)/1000 area_value\n",
    "FROM `bigquery-public-data.geo_us_census_places.places_georgia`\n",
    "WHERE place_name = 'Atlanta';"
   ]
  },
  {
   "cell_type": "markdown",
   "metadata": {},
   "source": [
    "Atlanta is 354 million square kilometers in area!\n",
    "\n",
    "Note that I divided the value by 1,000 in the SQL query, which converted the area value to square kilometers (instead of square meters)."
   ]
  },
  {
   "cell_type": "markdown",
   "metadata": {},
   "source": [
    "**Try It:**  \n",
    "Can you calculate the area of Plymouth, Massachusetts?  \n",
    "*Hint:* Use the \"places_massachusetts\" table."
   ]
  },
  {
   "cell_type": "code",
   "execution_count": null,
   "metadata": {},
   "outputs": [],
   "source": [
    "%%bigquery\n",
    "SELECT place_id, place_name, place_geom, ST_AREA(??)/1000 area_value\n",
    "FROM ??\n",
    "WHERE place_name = 'Plymouth';"
   ]
  },
  {
   "cell_type": "markdown",
   "metadata": {},
   "source": [
    "## Calculating the Centroid of a Geospatial Polygon\n",
    "Spatial transformations generate new `GEOGRAPHY` data based on one or more `GEOGRAPHY` inputs.\n",
    "\n",
    "One useful spatial transformation function is [ST_CENTROID](https://cloud.google.com/bigquery/docs/reference/standard-sql/geography_functions#st_centroid), which calculates the geospatial point that is the geographic centroid of a polygon `GEOGRAPHY` field.\n",
    "\n",
    "For this example, we will again use a datset from the Google public data: the US zip code table.\n",
    "\n",
    "The `zip_code_geom` field is a `GEOGRAPHY` polygon for each zip code in the United States.\n",
    "\n",
    "We will generate the centroid points for all zip codes in Manatee County, Florida."
   ]
  },
  {
   "cell_type": "code",
   "execution_count": 5,
   "metadata": {},
   "outputs": [
    {
     "data": {
      "text/html": [
       "<div>\n",
       "<style scoped>\n",
       "    .dataframe tbody tr th:only-of-type {\n",
       "        vertical-align: middle;\n",
       "    }\n",
       "\n",
       "    .dataframe tbody tr th {\n",
       "        vertical-align: top;\n",
       "    }\n",
       "\n",
       "    .dataframe thead th {\n",
       "        text-align: right;\n",
       "    }\n",
       "</style>\n",
       "<table border=\"1\" class=\"dataframe\">\n",
       "  <thead>\n",
       "    <tr style=\"text-align: right;\">\n",
       "      <th></th>\n",
       "      <th>zip_code</th>\n",
       "      <th>city</th>\n",
       "      <th>county</th>\n",
       "      <th>state_code</th>\n",
       "      <th>zip_code_centroid</th>\n",
       "    </tr>\n",
       "  </thead>\n",
       "  <tbody>\n",
       "    <tr>\n",
       "      <th>0</th>\n",
       "      <td>34217</td>\n",
       "      <td>Holmes Beach city, Bradenton Beach city</td>\n",
       "      <td>Manatee County</td>\n",
       "      <td>FL</td>\n",
       "      <td>POINT(-82.706100539919 27.493641341139)</td>\n",
       "    </tr>\n",
       "    <tr>\n",
       "      <th>1</th>\n",
       "      <td>34207</td>\n",
       "      <td>South Bradenton CDP, Bayshore Gardens CDP</td>\n",
       "      <td>Manatee County</td>\n",
       "      <td>FL</td>\n",
       "      <td>POINT(-82.5801888849448 27.4375556191155)</td>\n",
       "    </tr>\n",
       "    <tr>\n",
       "      <th>2</th>\n",
       "      <td>34205</td>\n",
       "      <td>South Bradenton CDP, Bradenton city, West Brad...</td>\n",
       "      <td>Manatee County</td>\n",
       "      <td>FL</td>\n",
       "      <td>POINT(-82.5833772249596 27.484120535388)</td>\n",
       "    </tr>\n",
       "    <tr>\n",
       "      <th>3</th>\n",
       "      <td>34203</td>\n",
       "      <td>Bayshore Gardens CDP, West Samoset CDP</td>\n",
       "      <td>Manatee County</td>\n",
       "      <td>FL</td>\n",
       "      <td>POINT(-82.5093368898136 27.4435725319891)</td>\n",
       "    </tr>\n",
       "    <tr>\n",
       "      <th>4</th>\n",
       "      <td>34221</td>\n",
       "      <td>Palmetto city, Ellenton CDP, Memphis CDP</td>\n",
       "      <td>Manatee County</td>\n",
       "      <td>FL</td>\n",
       "      <td>POINT(-82.5535753726386 27.5811887778284)</td>\n",
       "    </tr>\n",
       "    <tr>\n",
       "      <th>5</th>\n",
       "      <td>34215</td>\n",
       "      <td>Cortez CDP, Bradenton Beach city</td>\n",
       "      <td>Manatee County</td>\n",
       "      <td>FL</td>\n",
       "      <td>POINT(-82.6849967120187 27.4717673438458)</td>\n",
       "    </tr>\n",
       "    <tr>\n",
       "      <th>6</th>\n",
       "      <td>34209</td>\n",
       "      <td>Bradenton city, West Bradenton CDP</td>\n",
       "      <td>Manatee County</td>\n",
       "      <td>FL</td>\n",
       "      <td>POINT(-82.6483297532489 27.4983598416737)</td>\n",
       "    </tr>\n",
       "    <tr>\n",
       "      <th>7</th>\n",
       "      <td>34222</td>\n",
       "      <td>Palmetto city, Ellenton CDP</td>\n",
       "      <td>Manatee County</td>\n",
       "      <td>FL</td>\n",
       "      <td>POINT(-82.5050428454843 27.5362333385473)</td>\n",
       "    </tr>\n",
       "    <tr>\n",
       "      <th>8</th>\n",
       "      <td>34216</td>\n",
       "      <td>Anna Maria city</td>\n",
       "      <td>Manatee County</td>\n",
       "      <td>FL</td>\n",
       "      <td>POINT(-82.7370504186488 27.5376107443427)</td>\n",
       "    </tr>\n",
       "    <tr>\n",
       "      <th>9</th>\n",
       "      <td>34208</td>\n",
       "      <td>South Bradenton CDP, Bradenton city, West Samo...</td>\n",
       "      <td>Manatee County</td>\n",
       "      <td>FL</td>\n",
       "      <td>POINT(-82.5131228435458 27.4871432554532)</td>\n",
       "    </tr>\n",
       "  </tbody>\n",
       "</table>\n",
       "</div>"
      ],
      "text/plain": [
       "  zip_code                                               city          county  \\\n",
       "0    34217            Holmes Beach city, Bradenton Beach city  Manatee County   \n",
       "1    34207          South Bradenton CDP, Bayshore Gardens CDP  Manatee County   \n",
       "2    34205  South Bradenton CDP, Bradenton city, West Brad...  Manatee County   \n",
       "3    34203             Bayshore Gardens CDP, West Samoset CDP  Manatee County   \n",
       "4    34221           Palmetto city, Ellenton CDP, Memphis CDP  Manatee County   \n",
       "5    34215                   Cortez CDP, Bradenton Beach city  Manatee County   \n",
       "6    34209                 Bradenton city, West Bradenton CDP  Manatee County   \n",
       "7    34222                        Palmetto city, Ellenton CDP  Manatee County   \n",
       "8    34216                                    Anna Maria city  Manatee County   \n",
       "9    34208  South Bradenton CDP, Bradenton city, West Samo...  Manatee County   \n",
       "\n",
       "  state_code                          zip_code_centroid  \n",
       "0         FL    POINT(-82.706100539919 27.493641341139)  \n",
       "1         FL  POINT(-82.5801888849448 27.4375556191155)  \n",
       "2         FL   POINT(-82.5833772249596 27.484120535388)  \n",
       "3         FL  POINT(-82.5093368898136 27.4435725319891)  \n",
       "4         FL  POINT(-82.5535753726386 27.5811887778284)  \n",
       "5         FL  POINT(-82.6849967120187 27.4717673438458)  \n",
       "6         FL  POINT(-82.6483297532489 27.4983598416737)  \n",
       "7         FL  POINT(-82.5050428454843 27.5362333385473)  \n",
       "8         FL  POINT(-82.7370504186488 27.5376107443427)  \n",
       "9         FL  POINT(-82.5131228435458 27.4871432554532)  "
      ]
     },
     "execution_count": 5,
     "metadata": {},
     "output_type": "execute_result"
    }
   ],
   "source": [
    "%%bigquery\n",
    "SELECT zip_code, city, county, state_code, ST_CENTROID(zip_code_geom) zip_code_centroid\n",
    "FROM `bigquery-public-data.geo_us_boundaries.zip_codes`\n",
    "WHERE state_code = 'FL' and county = 'Manatee County';"
   ]
  },
  {
   "cell_type": "markdown",
   "metadata": {},
   "source": [
    "**Try It:**  \n",
    "Can you calculate the zip code centroids for Galveston County, Texas?"
   ]
  },
  {
   "cell_type": "code",
   "execution_count": null,
   "metadata": {},
   "outputs": [],
   "source": [
    "%%bigquery\n",
    "SELECT ??\n",
    "FROM `bigquery-public-data.geo_us_boundaries.zip_codes`\n",
    "WHERE ??;"
   ]
  },
  {
   "cell_type": "markdown",
   "metadata": {},
   "source": [
    "## Creating Combined `GEOGRAPHY` Data\n",
    "The next example uses the [ST_UNION_AGG](https://cloud.google.com/bigquery/docs/reference/standard-sql/geography_functions#st_union_agg) function to create a multipoint `GEOGRAPHY` from an array of single geospatial points.\n",
    "\n",
    "For this example, we will use the 2015 New York City tree census data from Google's public datasets to group living trees by neighborhoods and postal code."
   ]
  },
  {
   "cell_type": "code",
   "execution_count": 6,
   "metadata": {},
   "outputs": [
    {
     "data": {
      "text/html": [
       "<div>\n",
       "<style scoped>\n",
       "    .dataframe tbody tr th:only-of-type {\n",
       "        vertical-align: middle;\n",
       "    }\n",
       "\n",
       "    .dataframe tbody tr th {\n",
       "        vertical-align: top;\n",
       "    }\n",
       "\n",
       "    .dataframe thead th {\n",
       "        text-align: right;\n",
       "    }\n",
       "</style>\n",
       "<table border=\"1\" class=\"dataframe\">\n",
       "  <thead>\n",
       "    <tr style=\"text-align: right;\">\n",
       "      <th></th>\n",
       "      <th>zipcode</th>\n",
       "      <th>neighborhood</th>\n",
       "      <th>borough</th>\n",
       "      <th>tree_points</th>\n",
       "    </tr>\n",
       "  </thead>\n",
       "  <tbody>\n",
       "    <tr>\n",
       "      <th>0</th>\n",
       "      <td>10034</td>\n",
       "      <td>Marble Hill-Inwood</td>\n",
       "      <td>Manhattan</td>\n",
       "      <td>MULTIPOINT(-73.91238006 40.87039025, -73.91211...</td>\n",
       "    </tr>\n",
       "    <tr>\n",
       "      <th>1</th>\n",
       "      <td>10040</td>\n",
       "      <td>Marble Hill-Inwood</td>\n",
       "      <td>Manhattan</td>\n",
       "      <td>MULTIPOINT(-73.92426232 40.86062745, -73.92431...</td>\n",
       "    </tr>\n",
       "    <tr>\n",
       "      <th>2</th>\n",
       "      <td>10039</td>\n",
       "      <td>Central Harlem North-Polo Grounds</td>\n",
       "      <td>Manhattan</td>\n",
       "      <td>MULTIPOINT(-73.93553748 40.83492454, -73.93554...</td>\n",
       "    </tr>\n",
       "    <tr>\n",
       "      <th>3</th>\n",
       "      <td>10037</td>\n",
       "      <td>Central Harlem North-Polo Grounds</td>\n",
       "      <td>Manhattan</td>\n",
       "      <td>MULTIPOINT(-73.9357097 40.81856501, -73.935421...</td>\n",
       "    </tr>\n",
       "    <tr>\n",
       "      <th>4</th>\n",
       "      <td>10030</td>\n",
       "      <td>Central Harlem North-Polo Grounds</td>\n",
       "      <td>Manhattan</td>\n",
       "      <td>MULTIPOINT(-73.94806563 40.81549696, -73.94790...</td>\n",
       "    </tr>\n",
       "    <tr>\n",
       "      <th>...</th>\n",
       "      <td>...</td>\n",
       "      <td>...</td>\n",
       "      <td>...</td>\n",
       "      <td>...</td>\n",
       "    </tr>\n",
       "    <tr>\n",
       "      <th>114</th>\n",
       "      <td>10065</td>\n",
       "      <td>Upper East Side-Carnegie Hill</td>\n",
       "      <td>Manhattan</td>\n",
       "      <td>MULTIPOINT(-73.96608259 40.76243573, -73.96522...</td>\n",
       "    </tr>\n",
       "    <tr>\n",
       "      <th>115</th>\n",
       "      <td>10075</td>\n",
       "      <td>Upper East Side-Carnegie Hill</td>\n",
       "      <td>Manhattan</td>\n",
       "      <td>MULTIPOINT(-73.96434922 40.77599814, -73.96428...</td>\n",
       "    </tr>\n",
       "    <tr>\n",
       "      <th>116</th>\n",
       "      <td>10022</td>\n",
       "      <td>Upper East Side-Carnegie Hill</td>\n",
       "      <td>Manhattan</td>\n",
       "      <td>MULTIPOINT(-73.97028783 40.7631652, -73.970218...</td>\n",
       "    </tr>\n",
       "    <tr>\n",
       "      <th>117</th>\n",
       "      <td>10010</td>\n",
       "      <td>Stuyvesant Town-Cooper Village</td>\n",
       "      <td>Manhattan</td>\n",
       "      <td>MULTIPOINT(-73.97865039 40.7365079, -73.978637...</td>\n",
       "    </tr>\n",
       "    <tr>\n",
       "      <th>118</th>\n",
       "      <td>10009</td>\n",
       "      <td>Stuyvesant Town-Cooper Village</td>\n",
       "      <td>Manhattan</td>\n",
       "      <td>MULTIPOINT(-73.97421904 40.7279057, -73.975837...</td>\n",
       "    </tr>\n",
       "  </tbody>\n",
       "</table>\n",
       "<p>119 rows × 4 columns</p>\n",
       "</div>"
      ],
      "text/plain": [
       "     zipcode                       neighborhood    borough  \\\n",
       "0      10034                 Marble Hill-Inwood  Manhattan   \n",
       "1      10040                 Marble Hill-Inwood  Manhattan   \n",
       "2      10039  Central Harlem North-Polo Grounds  Manhattan   \n",
       "3      10037  Central Harlem North-Polo Grounds  Manhattan   \n",
       "4      10030  Central Harlem North-Polo Grounds  Manhattan   \n",
       "..       ...                                ...        ...   \n",
       "114    10065      Upper East Side-Carnegie Hill  Manhattan   \n",
       "115    10075      Upper East Side-Carnegie Hill  Manhattan   \n",
       "116    10022      Upper East Side-Carnegie Hill  Manhattan   \n",
       "117    10010     Stuyvesant Town-Cooper Village  Manhattan   \n",
       "118    10009     Stuyvesant Town-Cooper Village  Manhattan   \n",
       "\n",
       "                                           tree_points  \n",
       "0    MULTIPOINT(-73.91238006 40.87039025, -73.91211...  \n",
       "1    MULTIPOINT(-73.92426232 40.86062745, -73.92431...  \n",
       "2    MULTIPOINT(-73.93553748 40.83492454, -73.93554...  \n",
       "3    MULTIPOINT(-73.9357097 40.81856501, -73.935421...  \n",
       "4    MULTIPOINT(-73.94806563 40.81549696, -73.94790...  \n",
       "..                                                 ...  \n",
       "114  MULTIPOINT(-73.96608259 40.76243573, -73.96522...  \n",
       "115  MULTIPOINT(-73.96434922 40.77599814, -73.96428...  \n",
       "116  MULTIPOINT(-73.97028783 40.7631652, -73.970218...  \n",
       "117  MULTIPOINT(-73.97865039 40.7365079, -73.978637...  \n",
       "118  MULTIPOINT(-73.97421904 40.7279057, -73.975837...  \n",
       "\n",
       "[119 rows x 4 columns]"
      ]
     },
     "execution_count": 6,
     "metadata": {},
     "output_type": "execute_result"
    }
   ],
   "source": [
    "%%bigquery\n",
    "SELECT zipcode, nta_name neighborhood, boroname borough, ST_UNION_AGG(ST_GEOGPOINT(longitude,latitude)) tree_points\n",
    "FROM `bigquery-public-data.new_york_trees.tree_census_2015`\n",
    "WHERE status = 'Alive' and boroname = 'Manhattan'\n",
    "GROUP BY zipcode, nta_name, boroname;"
   ]
  },
  {
   "cell_type": "markdown",
   "metadata": {},
   "source": [
    "**Try It:**  \n",
    "Can you create multipoint `GEOGRAPHY` values for each neighborhood/zip code in the Bronx?  \n",
    "*Hint:* The `boroname` field should be set equal to \"Bronx\""
   ]
  },
  {
   "cell_type": "code",
   "execution_count": null,
   "metadata": {},
   "outputs": [],
   "source": [
    "%%bigquery\n",
    "SELECT ??\n",
    "FROM `bigquery-public-data.new_york_trees.tree_census_2015`\n",
    "WHERE ??\n",
    "GROUP BY zipcode, nta_name, boroname;"
   ]
  },
  {
   "cell_type": "markdown",
   "metadata": {},
   "source": [
    "## Explore Further\n",
    "There are other spatial measurement and spatial transformation functions available within BigQuery GIS, as well as other types of spatial functions.  To get more information on spatial functions, you can view the full documentation [here](https://cloud.google.com/bigquery/docs/reference/standard-sql/geography_functions)."
   ]
  }
 ],
 "metadata": {
  "environment": {
   "name": "common-cpu.m50",
   "type": "gcloud",
   "uri": "gcr.io/deeplearning-platform-release/base-cpu:m50"
  },
  "kernelspec": {
   "display_name": "Python 3",
   "language": "python",
   "name": "python3"
  },
  "language_info": {
   "codemirror_mode": {
    "name": "ipython",
    "version": 3
   },
   "file_extension": ".py",
   "mimetype": "text/x-python",
   "name": "python",
   "nbconvert_exporter": "python",
   "pygments_lexer": "ipython3",
   "version": "3.7.6"
  }
 },
 "nbformat": 4,
 "nbformat_minor": 4
}